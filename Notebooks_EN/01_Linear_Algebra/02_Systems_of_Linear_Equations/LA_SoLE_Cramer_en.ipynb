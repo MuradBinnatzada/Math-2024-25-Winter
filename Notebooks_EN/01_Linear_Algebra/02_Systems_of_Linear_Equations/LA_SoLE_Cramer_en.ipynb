{
  "cells": [
    {
      "cell_type": "markdown",
      "metadata": {
        "id": "tyr8f-nyx990"
      },
      "source": [
        "# Cramer's Rule - Examples for 2x2, 3x3, and 4x4 Systems\n",
        "\n",
        "Cramer's rule is used only when the number of equations is equal to the number of unknowns. In other words, the coefficient matrix must be a square matrix.\n",
        "\n",
        "**These formulas are used only** when the **determinant** of the coefficient matrix is **non-zero**. Otherwise, the system of equations is either inconsistent or indeterminate.\n",
        "\n",
        "## 2x2 System of Equations\n",
        "\n",
        "Consider a system of two equations with two unknowns:\n",
        "\n",
        "$$\n",
        "\\begin{cases}\n",
        "a_{11}x_1 + a_{12}x_2 = b_1 \\\\\n",
        "a_{21}x_1 + a_{22}x_2 = b_2\n",
        "\\end{cases}\n",
        "$$\n",
        "\n",
        "Cramer's rule for the unknowns $ x_1 $ and $ x_2 $ is as follows:\n",
        "\n",
        "$$\n",
        "x_1 = \\frac{\\det(A_1)}{\\det(A)} \\quad \\text{and} \\quad x_2 = \\frac{\\det(A_2)}{\\det(A)}\n",
        "$$\n",
        "\n",
        "Where:\n",
        "\n",
        "$$\n",
        "\\det(A) =\n",
        "\\begin{vmatrix}\n",
        "a_{11} & a_{12} \\\\\n",
        "a_{21} & a_{22}\n",
        "\\end{vmatrix}\n",
        "= a_{11}a_{22} - a_{12}a_{21}\n",
        "$$\n",
        "\n",
        "$$\n",
        "\\det(A_1) =\n",
        "\\begin{vmatrix}\n",
        "b_1 & a_{12} \\\\\n",
        "b_2 & a_{22}\n",
        "\\end{vmatrix}\n",
        "= b_1a_{22} - a_{12}b_2\n",
        "$$\n",
        "\n",
        "$$\n",
        "\\det(A_2) =\n",
        "\\begin{vmatrix}\n",
        "a_{11} & b_1 \\\\\n",
        "a_{21} & b_2\n",
        "\\end{vmatrix}\n",
        "= a_{11}b_2 - b_1a_{21}\n",
        "$$\n",
        "\n",
        "## 3x3 System of Equations\n",
        "\n",
        "Consider a system of three equations with three unknowns:\n",
        "\n",
        "$$\n",
        "\\begin{cases}\n",
        "a_{11}x_1 + a_{12}x_2 + a_{13}x_3 = b_1 \\\\\n",
        "a_{21}x_1 + a_{22}x_2 + a_{23}x_3 = b_2 \\\\\n",
        "a_{31}x_1 + a_{32}x_2 + a_{33}x_3 = b_3\n",
        "\\end{cases}\n",
        "$$\n",
        "\n",
        "Cramer's rule for $ x_1 $, $ x_2 $, and $ x_3 $:\n",
        "\n",
        "$$\n",
        "x_1 = \\frac{\\det(A_1)}{\\det(A)} \\quad x_2 = \\frac{\\det(A_2)}{\\det(A)} \\quad x_3 = \\frac{\\det(A_3)}{\\det(A)}\n",
        "$$\n",
        "\n",
        "Where:\n",
        "\n",
        "$$\n",
        "\\det(A) =\n",
        "\\begin{vmatrix}\n",
        "a_{11} & a_{12} & a_{13} \\\\\n",
        "a_{21} & a_{22} & a_{23} \\\\\n",
        "a_{31} & a_{32} & a_{33}\n",
        "\\end{vmatrix}\n",
        "$$\n",
        "\n",
        "$$\n",
        "\\det(A_1) =\n",
        "\\begin{vmatrix}\n",
        "b_1 & a_{12} & a_{13} \\\\\n",
        "b_2 & a_{22} & a_{23} \\\\\n",
        "b_3 & a_{32} & a_{33}\n",
        "\\end{vmatrix}\n",
        "$$\n",
        "\n",
        "$$\n",
        "\\det(A_2) =\n",
        "\\begin{vmatrix}\n",
        "a_{11} & b_1 & a_{13} \\\\\n",
        "a_{21} & b_2 & a_{23} \\\\\n",
        "a_{31} & b_3 & a_{33}\n",
        "\\end{vmatrix}\n",
        "$$\n",
        "\n",
        "$$\n",
        "\\det(A_3) =\n",
        "\\begin{vmatrix}\n",
        "a_{11} & a_{12} & b_1 \\\\\n",
        "a_{21} & a_{22} & b_2 \\\\\n",
        "a_{31} & a_{32} & b_3\n",
        "\\end{vmatrix}\n",
        "$$\n",
        "\n",
        "## 4x4 System of Equations\n",
        "\n",
        "Consider a system of four equations with four unknowns:\n",
        "\n",
        "$$\n",
        "\\begin{cases}\n",
        "a_{11}x_1 + a_{12}x_2 + a_{13}x_3 + a_{14}x_4 = b_1 \\\\\n",
        "a_{21}x_1 + a_{22}x_2 + a_{23}x_3 + a_{24}x_4 = b_2 \\\\\n",
        "a_{31}x_1 + a_{32}x_2 + a_{33}x_3 + a_{34}x_4 = b_3 \\\\\n",
        "a_{41}x_1 + a_{42}x_2 + a_{43}x_3 + a_{44}x_4 = b_4\n",
        "\\end{cases}\n",
        "$$\n",
        "\n",
        "Cramer's rule for $ x_1 $, $ x_2 $, $ x_3 $, and $ x_4 $:\n",
        "\n",
        "$$\n",
        "x_1 = \\frac{\\det(A_1)}{\\det(A)} \\quad x_2 = \\frac{\\det(A_2)}{\\det(A)} \\quad x_3 = \\frac{\\det(A_3)}{\\det(A)} \\quad x_4 = \\frac{\\det(A_4)}{\\det(A)}\n",
        "$$\n",
        "\n",
        "Where:\n",
        "\n",
        "$$\n",
        "\\det(A) =\n",
        "\\begin{vmatrix}\n",
        "a_{11} & a_{12} & a_{13} & a_{14} \\\\\n",
        "a_{21} & a_{22} & a_{23} & a_{24} \\\\\n",
        "a_{31} & a_{32} & a_{33} & a_{34} \\\\\n",
        "a_{41} & a_{42} & a_{43} & a_{44}\n",
        "\\end{vmatrix}\n",
        "$$\n",
        "\n",
        "$$\n",
        "\\det(A_1) =\n",
        "\\begin{vmatrix}\n",
        "b_1 & a_{12} & a_{13} & a_{14} \\\\\n",
        "b_2 & a_{22} & a_{23} & a_{24} \\\\\n",
        "b_3 & a_{32} & a_{33} & a_{34} \\\\\n",
        "b_4 & a_{42} & a_{43} & a_{44}\n",
        "\\end{vmatrix}\n",
        "$$\n",
        "\n",
        "$$\n",
        "\\det(A_2) =\n",
        "\\begin{vmatrix}\n",
        "a_{11} & b_1 & a_{13} & a_{14} \\\\\n",
        "a_{21} & b_2 & a_{23} & a_{24} \\\\\n",
        "a_{31} & b_3 & a_{33} & a_{34} \\\\\n",
        "a_{41} & b_4 & a_{43} & a_{44}\n",
        "\\end{vmatrix}\n",
        "$$\n",
        "\n",
        "$$\n",
        "\\det(A_3) =\n",
        "\\begin{vmatrix}\n",
        "a_{11} & a_{12} & b_1 & a_{14} \\\\\n",
        "a_{21} & a_{22} & b_2 & a_{24} \\\\\n",
        "a_{31} & a_{32} & b_3 & a_{34} \\\\\n",
        "a_{41} & a_{42} & b_4 & a_{44}\n",
        "\\end{vmatrix}\n",
        "$$\n",
        "\n",
        "$$\n",
        "\\det(A_4) =\n",
        "\\begin{vmatrix}\n",
        "a_{11} & a_{12} & a_{13} & b_1 \\\\\n",
        "a_{21} & a_{22} & a_{23} & b_2 \\\\\n",
        "a_{31} & a_{32} & a_{33} & b_3 \\\\\n",
        "a_{41} & a_{42} & a_{43} & b_4\n",
        "\\end{vmatrix}\n",
        "$$\n",
        "\n",
        "## Example"
      ]
    },
    {
      "cell_type": "code",
      "execution_count": null,
      "metadata": {
        "id": "fFugkhKPx998"
      },
      "outputs": [],
      "source": [
        "import sympy as sp\n",
        "\n",
        "# Define symbols\n",
        "x, y, z = sp.symbols('x y z')\n",
        "\n",
        "# Define the system of equations\n",
        "eq1 = sp.Eq(2*x + 3*y + z, 1)\n",
        "eq2 = sp.Eq(3*x + 2*y + 2*z, 2)\n",
        "eq3 = sp.Eq(x + y + z, 3)\n",
        "\n",
        "# Coefficient matrix of the system\n",
        "A = sp.Matrix([[2, 3, 1], [3, 2, 2], [1, 1, 1]])\n",
        "# Free terms vector\n",
        "b = sp.Matrix([1, 2, 3])"
      ]
    },
    {
      "cell_type": "code",
      "execution_count": null,
      "metadata": {
        "id": "ZT3wfCkGx999",
        "outputId": "30883a0f-862e-405f-b7f9-4174f4e74fd8"
      },
      "outputs": [
        {
          "data": {
            "text/latex": [
              "$\\displaystyle \\left[\\begin{matrix}2 & 3 & 1\\\\3 & 2 & 2\\\\1 & 1 & 1\\end{matrix}\\right]$"
            ],
            "text/plain": [
              "Matrix([\n",
              "[2, 3, 1],\n",
              "[3, 2, 2],\n",
              "[1, 1, 1]])"
            ]
          },
          "execution_count": 2,
          "metadata": {},
          "output_type": "execute_result"
        }
      ],
      "source": [
        "A"
      ]
    },
    {
      "cell_type": "code",
      "execution_count": null,
      "metadata": {
        "id": "G2CH2_Jlx99_",
        "outputId": "fe4b053b-8606-4253-e8ee-975ec001d2c8"
      },
      "outputs": [
        {
          "data": {
            "text/latex": [
              "$\\displaystyle \\left[\\begin{matrix}1\\\\2\\\\3\\end{matrix}\\right]$"
            ],
            "text/plain": [
              "Matrix([\n",
              "[1],\n",
              "[2],\n",
              "[3]])"
            ]
          },
          "execution_count": 3,
          "metadata": {},
          "output_type": "execute_result"
        }
      ],
      "source": [
        "b"
      ]
    },
    {
      "cell_type": "code",
      "execution_count": null,
      "metadata": {
        "id": "5kZ8-tHNx9-A",
        "outputId": "e745a8ba-8189-4146-f2e9-6c5ce2f0d324"
      },
      "outputs": [
        {
          "data": {
            "text/latex": [
              "$\\displaystyle \\left[\\begin{matrix}1 & 3 & 1\\\\2 & 2 & 2\\\\3 & 1 & 1\\end{matrix}\\right]$"
            ],
            "text/plain": [
              "Matrix([\n",
              "[1, 3, 1],\n",
              "[2, 2, 2],\n",
              "[3, 1, 1]])"
            ]
          },
          "execution_count": 4,
          "metadata": {},
          "output_type": "execute_result"
        }
      ],
      "source": [
        "# Define matrix A_1\n",
        "A_1 = A.copy() # Copy matrix A\n",
        "A_1[:, 0] = b # Replace the first column of A with vector b\n",
        "A_1 # Check if the replacement was successful"
      ]
    },
    {
      "cell_type": "code",
      "execution_count": null,
      "metadata": {
        "id": "F--N1FW8x9-B",
        "outputId": "f3ca12ae-7dc7-4bf8-e7f5-4ca440f7af15"
      },
      "outputs": [
        {
          "data": {
            "text/latex": [
              "$\\displaystyle -4$"
            ],
            "text/plain": [
              "-4"
            ]
          },
          "execution_count": 5,
          "metadata": {},
          "output_type": "execute_result"
        }
      ],
      "source": [
        "det_A_1 = A_1.det() # Calculate determinant of A_1\n",
        "sol_x = det_A_1 / A.det() # Calculate x_1\n",
        "sol_x # Calculated value of x_1"
      ]
    },
    {
      "cell_type": "code",
      "execution_count": null,
      "metadata": {
        "id": "JaTjXTEOx9-B",
        "outputId": "572123ef-1ed1-4b33-8987-6c1293f3a6fc"
      },
      "outputs": [
        {
          "data": {
            "text/latex": [
              "$\\displaystyle \\left[\\begin{matrix}2 & 1 & 1\\\\3 & 2 & 2\\\\1 & 3 & 1\\end{matrix}\\right]$"
            ],
            "text/plain": [
              "Matrix([\n",
              "[2, 1, 1],\n",
              "[3, 2, 2],\n",
              "[1, 3, 1]])"
            ]
          },
          "execution_count": 6,
          "metadata": {},
          "output_type": "execute_result"
        }
      ],
      "source": [
        "# Similarly for y\n",
        "A_2 = A.copy()\n",
        "A_2[:, 1] = b\n",
        "A_2 # Check if the replacement was successful"
      ]
    },
    {
      "cell_type": "code",
      "execution_count": null,
      "metadata": {
        "id": "MMescA26x9-D",
        "outputId": "13ceac63-76e9-4044-f9bb-69a8aabbb95b"
      },
      "outputs": [
        {
          "data": {
            "text/latex": [
              "$\\displaystyle 1$"
            ],
            "text/plain": [
              "1"
            ]
          },
          "execution_count": 7,
          "metadata": {},
          "output_type": "execute_result"
        }
      ],
      "source": [
        "det_A_2 = A_2.det()\n",
        "sol_y = det_A_2 / A.det()\n",
        "sol_y"
      ]
    },
    {
      "cell_type": "code",
      "execution_count": null,
      "metadata": {
        "id": "7SSNoHkAx9-E",
        "outputId": "812c22cc-39b8-4656-81fc-e2d265f0bf3c"
      },
      "outputs": [
        {
          "data": {
            "text/latex": [
              "$\\displaystyle 6$"
            ],
            "text/plain": [
              "6"
            ]
          },
          "execution_count": 8,
          "metadata": {},
          "output_type": "execute_result"
        }
      ],
      "source": [
        "# Finally for z\n",
        "A_3 = A.copy()\n",
        "A_3[:, 2] = b\n",
        "det_A_3 = A_3.det()\n",
        "sol_z = det_A_3 / A.det()\n",
        "sol_z"
      ]
    },
    {
      "cell_type": "code",
      "execution_count": null,
      "metadata": {
        "id": "HZZMg5mWx9-F",
        "outputId": "1e4bab94-2e58-4996-d551-a8311ab372b0"
      },
      "outputs": [
        {
          "data": {
            "text/plain": [
              "{x: -4, y: 1, z: 6}"
            ]
          },
          "execution_count": 9,
          "metadata": {},
          "output_type": "execute_result"
        }
      ],
      "source": [
        "# Solve the system of equations\n",
        "sp.solve((eq1, eq2, eq3), (x, y, z))"
      ]
    },
    {
      "cell_type": "markdown",
      "metadata": {
        "id": "q4titTF6x9-G"
      },
      "source": [
        "---\n",
        "\n",
        "## Exercises for Students\n",
        "\n",
        "1. Solve the system of equations:\n",
        "   $$\n",
        "   \\begin{cases}\n",
        "   2x_1 - 3x_2 = 7 \\\\\n",
        "   3x_1 + 5x_2 = 2\n",
        "   \\end{cases}\n",
        "   $$\n",
        "\n",
        "2. Solve the system of equations:\n",
        "   $$\n",
        "   \\begin{cases}\n",
        "   2x + y - z = 1 \\\\\n",
        "   x - y + 2z = 4 \\\\\n",
        "   3x - 2z = -1\n",
        "   \\end{cases}\n",
        "   $$\n",
        "\n",
        "3. Solve the system of equations:\n",
        "   $$\n",
        "   \\begin{cases}\n",
        "   x + y + z - t = 2 \\\\\n",
        "   x - z + 2t = 6 \\\\\n",
        "   2x - 3y + t = 4 \\\\\n",
        "   3x + y + 3z - 4t = -2\n",
        "   \\end{cases}\n",
        "   $$\n",
        "\n",
        "4. Why can't the following system of equations be solved using Cramer's rule?\n",
        "$$\n",
        "\\begin{cases}\n",
        "x_1 + 2x_2 + 3x_3 = 3 \\\\\n",
        "4x_1 + 5x_2 + 6x_3 = 2 \\\\\n",
        "7x_1 + 8x_2 + 9x_3 = 1\n",
        "\\end{cases}\n",
        "$$"
      ]
    },
    {
      "cell_type": "markdown",
      "source": [
        "1. System of 2 Equations:\n",
        "\n",
        "$$ \\begin{cases} 2x_1 - 3x_2 = 7 \\\\ 3x_1 + 5x_2 = 2 \\end{cases} $$$$ \\begin{cases} 2x_1 - 3x_2 = 7 \\\\ 3x_1 + 5x_2 = 2 \\end{cases} $$\n",
        "\n",
        "Solution:\n",
        "\n",
        "Using Cramer's rule:\n",
        "\n",
        "$$ x_1 = \\frac{\\begin{vmatrix} 7 & -3 \\\\ 2 & 5 \\end{vmatrix}}{\\begin{vmatrix} 2 & -3 \\\\ 3 & 5 \\end{vmatrix}} = \\frac{7(5) - (-3)(2)}{2(5) - (-3)(3)} = \\frac{35 + 6}{10 + 9} = \\frac{41}{19} $$$$ x_1 = \\frac{\\begin{vmatrix} 7 & -3 \\\\ 2 & 5 \\end{vmatrix}}{\\begin{vmatrix} 2 & -3 \\\\ 3 & 5 \\end{vmatrix}} = \\frac{7(5) - (-3)(2)}{2(5) - (-3)(3)} = \\frac{35 + 6}{10 + 9} = \\frac{41}{19} $$\n",
        "\n",
        "$$ x_2 = \\frac{\\begin{vmatrix} 2 & 7 \\\\ 3 & 2 \\end{vmatrix}}{\\begin{vmatrix} 2 & -3 \\\\ 3 & 5 \\end{vmatrix}} = \\frac{2(2) - 7(3)}{2(5) - (-3)(3)} = \\frac{4 - 21}{10 + 9} = \\frac{-17}{19} $$$$ x_2 = \\frac{\\begin{vmatrix} 2 & 7 \\\\ 3 & 2 \\end{vmatrix}}{\\begin{vmatrix} 2 & -3 \\\\ 3 & 5 \\end{vmatrix}} = \\frac{2(2) - 7(3)}{2(5) - (-3)(3)} = \\frac{4 - 21}{10 + 9} = \\frac{-17}{19} $$\n",
        "\n",
        "Therefore, the solution is:\n",
        "\n",
        "$$ x_1 = \\frac{41}{19}, \\quad x_2 = -\\frac{17}{19} $$$$ x_1 = \\frac{41}{19}, \\quad x_2 = -\\frac{17}{19} $$\n",
        "\n",
        "2. System of 3 Equations:\n",
        "\n",
        "$$ \\begin{cases} 2x + y - z = 1 \\\\ x - y + 2z = 4 \\\\ 3x - 2z = -1 \\end{cases} $$$$ \\begin{cases} 2x + y - z = 1 \\\\ x - y + 2z = 4 \\\\ 3x - 2z = -1 \\end{cases} $$\n",
        "\n",
        "Solution:\n",
        "\n",
        "Using Cramer's rule (the detailed calculation is omitted for brevity, but follows the same principle as in the previous example):\n",
        "\n",
        "$$ x = \\frac{\\begin{vmatrix} 1 & 1 & -1 \\\\ 4 & -1 & 2 \\\\ -1 & 0 & -2 \\end{vmatrix}}{\\begin{vmatrix} 2 & 1 & -1 \\\\ 1 & -1 & 2 \\\\ 3 & 0 & -2 \\end{vmatrix}} = \\frac{7}{7} = 1 $$$$ x = \\frac{\\begin{vmatrix} 1 & 1 & -1 \\\\ 4 & -1 & 2 \\\\ -1 & 0 & -2 \\end{vmatrix}}{\\begin{vmatrix} 2 & 1 & -1 \\\\ 1 & -1 & 2 \\\\ 3 & 0 & -2 \\end{vmatrix}} = \\frac{7}{7} = 1 $$\n",
        "\n",
        "$$ y = \\frac{\\begin{vmatrix} 2 & 1 & -1 \\\\ 1 & 4 & 2 \\\\ 3 & -1 & -2 \\end{vmatrix}}{\\begin{vmatrix} 2 & 1 & -1 \\\\ 1 & -1 & 2 \\\\ 3 & 0 & -2 \\end{vmatrix}} = \\frac{14}{7} = 2 $$$$ y = \\frac{\\begin{vmatrix} 2 & 1 & -1 \\\\ 1 & 4 & 2 \\\\ 3 & -1 & -2 \\end{vmatrix}}{\\begin{vmatrix} 2 & 1 & -1 \\\\ 1 & -1 & 2 \\\\ 3 & 0 & -2 \\end{vmatrix}} = \\frac{14}{7} = 2 $$\n",
        "\n",
        "$$ z = \\frac{\\begin{vmatrix} 2 & 1 & 1 \\\\ 1 & -1 & 4 \\\\ 3 & 0 & -1 \\end{vmatrix}}{\\begin{vmatrix} 2 & 1 & -1 \\\\ 1 & -1 & 2 \\\\ 3 & 0 & -2 \\end{vmatrix}} = \\frac{7}{7} = 1 $$$$ z = \\frac{\\begin{vmatrix} 2 & 1 & 1 \\\\ 1 & -1 & 4 \\\\ 3 & 0 & -1 \\end{vmatrix}}{\\begin{vmatrix} 2 & 1 & -1 \\\\ 1 & -1 & 2 \\\\ 3 & 0 & -2 \\end{vmatrix}} = \\frac{7}{7} = 1 $$\n",
        "\n",
        "Therefore, the solution is:\n",
        "\n",
        "$$ x = 1, \\quad y = 2, \\quad z = 1 $$$$ x = 1, \\quad y = 2, \\quad z = 1 $$\n",
        "\n",
        "3. System of 4 Equations:\n",
        "\n",
        "$$ \\begin{cases} x + y + z - t = 2 \\\\ x - z + 2t = 6 \\\\ 2x - 3y + t = 4 \\\\ 3x + y + 3z - 4t = -2 \\end{cases} $$$$ \\begin{cases} x + y + z - t = 2 \\\\ x - z + 2t = 6 \\\\ 2x - 3y + t = 4 \\\\ 3x + y + 3z - 4t = -2 \\end{cases} $$\n",
        "\n",
        "Solution:\n",
        "\n",
        "Using Cramer's rule (again, the detailed calculation is omitted for brevity):\n",
        "\n",
        "$$ x = 1, \\quad y = 0, \\quad z = 2, \\quad t = 1 $$$$ x = 1, \\quad y = 0, \\quad z = 2, \\quad t = 1 $$\n",
        "\n",
        "4. Cramer's rule can only be applied when the determinant of the coefficient matrix is non-zero. In this case, the coefficient matrix is"
      ],
      "metadata": {
        "id": "tG6RFWz_ymNt"
      }
    },
    {
      "cell_type": "code",
      "source": [
        "import sympy as sp\n",
        "\n",
        "# Define symbols\n",
        "x1, x2, x, y, z, t = sp.symbols('x1 x2 x y z t')\n",
        "\n",
        "# System 1\n",
        "eq1_1 = sp.Eq(2*x1 - 3*x2, 7)\n",
        "eq1_2 = sp.Eq(3*x1 + 5*x2, 2)\n",
        "sol1 = sp.solve((eq1_1, eq1_2), (x1, x2))\n",
        "print(\"Solution 1:\", sol1)\n",
        "\n",
        "# System 2\n",
        "eq2_1 = sp.Eq(2*x + y - z, 1)\n",
        "eq2_2 = sp.Eq(x - y + 2*z, 4)\n",
        "eq2_3 = sp.Eq(3*x - 2*z, -1)\n",
        "sol2 = sp.solve((eq2_1, eq2_2, eq2_3), (x, y, z))\n",
        "print(\"Solution 2:\", sol2)\n",
        "\n",
        "# System 3\n",
        "eq3_1 = sp.Eq(x + y + z - t, 2)\n",
        "eq3_2 = sp.Eq(x - z + 2*t, 6)\n",
        "eq3_3 = sp.Eq(2*x - 3*y + t, 4)\n",
        "eq3_4 = sp.Eq(3*x + y + 3*z - 4*t, -2)\n",
        "sol3 = sp.solve((eq3_1, eq3_2, eq3_3, eq3_4), (x, y, z, t))\n",
        "print(\"Solution 3:\", sol3)"
      ],
      "metadata": {
        "id": "G1GdRtokzHmM",
        "outputId": "f4973793-a1a4-4b1d-e6c9-72875f27aa6b",
        "colab": {
          "base_uri": "https://localhost:8080/"
        }
      },
      "execution_count": 1,
      "outputs": [
        {
          "output_type": "stream",
          "name": "stdout",
          "text": [
            "Solution 1: {x1: 41/19, x2: -17/19}\n",
            "Solution 2: {x: 1, y: 1, z: 2}\n",
            "Solution 3: {t: 6, x: 1/2, y: 1, z: 13/2}\n"
          ]
        }
      ]
    }
  ],
  "metadata": {
    "kernelspec": {
      "display_name": "Python 3",
      "language": "python",
      "name": "python3"
    },
    "language_info": {
      "codemirror_mode": {
        "name": "ipython",
        "version": 3
      },
      "file_extension": ".py",
      "mimetype": "text/x-python",
      "name": "python",
      "nbconvert_exporter": "python",
      "pygments_lexer": "ipython3",
      "version": "3.11.9"
    },
    "colab": {
      "provenance": []
    }
  },
  "nbformat": 4,
  "nbformat_minor": 0
}
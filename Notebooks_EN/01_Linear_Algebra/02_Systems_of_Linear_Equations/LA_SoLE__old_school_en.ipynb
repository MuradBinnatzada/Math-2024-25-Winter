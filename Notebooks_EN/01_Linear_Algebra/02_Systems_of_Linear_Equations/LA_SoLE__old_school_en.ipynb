{
  "cells": [
    {
      "cell_type": "markdown",
      "metadata": {
        "id": "zPgWrXh4HBRq"
      },
      "source": [
        "# School Method for Solving Systems of Linear Equations"
      ]
    },
    {
      "cell_type": "code",
      "execution_count": 1,
      "metadata": {
        "id": "hMJnE0qfHBRt"
      },
      "outputs": [],
      "source": [
        "import sympy as sp\n",
        "from sympy import symbols, Eq, expand, solve\n",
        "\n",
        "class EnhancedEq(Eq):\n",
        "    def __add__(self, other):\n",
        "        return EnhancedEq(self.lhs + other.lhs, self.rhs + other.rhs)\n",
        "\n",
        "    def __sub__(self, other):\n",
        "        return EnhancedEq(self.lhs - other.lhs, self.rhs - other.rhs)\n",
        "\n",
        "    def __mul__(self, scalar):\n",
        "        return EnhancedEq(scalar * self.lhs, scalar * self.rhs)\n",
        "\n",
        "    def __rmul__(self, scalar):\n",
        "        return self.__mul__(scalar)\n",
        "\n",
        "    def simplify(self):\n",
        "        return EnhancedEq(expand(self.lhs), expand(self.rhs))\n",
        "\n",
        "    def substitute(self, *args, **kwargs):\n",
        "        return EnhancedEq(self.lhs.subs(*args, **kwargs), self.rhs.subs(*args, **kwargs))\n",
        "\n",
        "    def solve_for(self, symbol):\n",
        "        return solve(self, symbol)\n",
        "\n",
        "# Example usage:\n",
        "x, y = symbols('x y')\n",
        "\n",
        "# Define equations\n",
        "eq1 = EnhancedEq(2*x + y, 5)\n",
        "eq2 = EnhancedEq(x - y, 1)"
      ]
    },
    {
      "cell_type": "code",
      "execution_count": 2,
      "metadata": {
        "id": "xpPW1y8VHBRw",
        "outputId": "71a0145e-2fd4-4791-8858-95b97ad397c4",
        "colab": {
          "base_uri": "https://localhost:8080/",
          "height": 56
        }
      },
      "outputs": [
        {
          "output_type": "stream",
          "name": "stdout",
          "text": [
            "First equation:\n"
          ]
        },
        {
          "output_type": "execute_result",
          "data": {
            "text/plain": [
              "Eq(2*x + y, 5)"
            ],
            "text/latex": "$\\displaystyle 2 x + y = 5$"
          },
          "metadata": {},
          "execution_count": 2
        }
      ],
      "source": [
        "print(\"First equation:\")\n",
        "eq1"
      ]
    },
    {
      "cell_type": "code",
      "execution_count": 3,
      "metadata": {
        "id": "6DY93aJMHBRy",
        "outputId": "90c6f439-8e26-4e32-f60c-56bab04212d9",
        "colab": {
          "base_uri": "https://localhost:8080/",
          "height": 56
        }
      },
      "outputs": [
        {
          "output_type": "stream",
          "name": "stdout",
          "text": [
            "Second equation:\n"
          ]
        },
        {
          "output_type": "execute_result",
          "data": {
            "text/plain": [
              "Eq(x - y, 1)"
            ],
            "text/latex": "$\\displaystyle x - y = 1$"
          },
          "metadata": {},
          "execution_count": 3
        }
      ],
      "source": [
        "print(\"Second equation:\")\n",
        "eq2"
      ]
    },
    {
      "cell_type": "code",
      "execution_count": 4,
      "metadata": {
        "id": "cZJmbhA0HBRy",
        "outputId": "a79d0f5a-dae7-4908-d39a-e0b1163cc62c",
        "colab": {
          "base_uri": "https://localhost:8080/",
          "height": 38
        }
      },
      "outputs": [
        {
          "output_type": "execute_result",
          "data": {
            "text/plain": [
              "Eq(3*x, 6)"
            ],
            "text/latex": "$\\displaystyle 3 x = 6$"
          },
          "metadata": {},
          "execution_count": 4
        }
      ],
      "source": [
        "# Add the equations\n",
        "eq3 = eq1 + eq2\n",
        "eq3"
      ]
    },
    {
      "cell_type": "code",
      "execution_count": null,
      "metadata": {
        "id": "WTDWrlfGHBRz",
        "outputId": "142ecf06-7bee-4fcf-9570-5f923a762ecb"
      },
      "outputs": [
        {
          "data": {
            "text/latex": [
              "$\\displaystyle 2$"
            ],
            "text/plain": [
              "2"
            ]
          },
          "execution_count": 5,
          "metadata": {},
          "output_type": "execute_result"
        }
      ],
      "source": [
        "# We have an equation with one unknown, so we can solve it\n",
        "sol_x = eq3.solve_for(x)[0]\n",
        "sol_x"
      ]
    },
    {
      "cell_type": "code",
      "execution_count": null,
      "metadata": {
        "id": "_dYtsgyhHBRz",
        "outputId": "43b35bad-8544-45a3-8851-9d7d0f5bd822"
      },
      "outputs": [
        {
          "data": {
            "text/latex": [
              "$\\displaystyle 2 - y = 1$"
            ],
            "text/plain": [
              "Eq(2 - y, 1)"
            ]
          },
          "execution_count": 6,
          "metadata": {},
          "output_type": "execute_result"
        }
      ],
      "source": [
        "# Substitute the solution into equation 2\n",
        "eq2 = eq2.substitute(x, sol_x)\n",
        "eq2"
      ]
    },
    {
      "cell_type": "code",
      "execution_count": null,
      "metadata": {
        "id": "IP5EJcm1HBR0",
        "outputId": "e8d69d0e-7938-46ad-ea1e-c6e5c707b5de"
      },
      "outputs": [
        {
          "data": {
            "text/latex": [
              "$\\displaystyle 1$"
            ],
            "text/plain": [
              "1"
            ]
          },
          "execution_count": 7,
          "metadata": {},
          "output_type": "execute_result"
        }
      ],
      "source": [
        "# We get an equation with one unknown, so we can solve it\n",
        "eq2.solve_for(y)[0]"
      ]
    },
    {
      "cell_type": "code",
      "execution_count": null,
      "metadata": {
        "id": "C0-pbi2THBR1",
        "outputId": "b8317603-837f-44f7-a30f-d268dab44d3d"
      },
      "outputs": [
        {
          "data": {
            "text/plain": [
              "{x: 2, y: 1}"
            ]
          },
          "execution_count": 8,
          "metadata": {},
          "output_type": "execute_result"
        }
      ],
      "source": [
        "# Thus x=2, y=1\n",
        "# Verify with sympy\n",
        "sp.solve([eq1, eq2])"
      ]
    },
    {
      "cell_type": "markdown",
      "metadata": {
        "id": "4Oo-EsicHBR1"
      },
      "source": [
        "---\n",
        "\n",
        "### Exercises for Students\n",
        "\n",
        "Solve the following systems of equations similarly to the example above:\n",
        "\n",
        "* $3x-2y=5, \\quad 2x+3y=7$,\n",
        "* $2x-3y=10, \\quad 4x+5y=20$,\n",
        "* $2x - y + z = 3, \\quad x + 2y - z = 1, \\quad 3x - y + 2z = 11$.\n",
        "* $2x-3y+4z+2t=2, \\quad 3x+2y-5z+3t=3, \\quad 4x-3y+2z-5t=4, \\quad 5x+4y-3z+2t=5$."
      ]
    },
    {
      "cell_type": "code",
      "source": [
        "import sympy as sp\n",
        "\n",
        "# Define symbols\n",
        "x, y, z, t = sp.symbols('x y z t')\n",
        "\n",
        "# Define equations for each system\n",
        "\n",
        "# System 1: 3x - 2y = 5, 2x + 3y = 7\n",
        "eq1_1 = sp.Eq(3*x - 2*y, 5)\n",
        "eq1_2 = sp.Eq(2*x + 3*y, 7)\n",
        "\n",
        "# System 2: 2x - 3y = 10, 4x + 5y = 20\n",
        "eq2_1 = sp.Eq(2*x - 3*y, 10)\n",
        "eq2_2 = sp.Eq(4*x + 5*y, 20)\n",
        "\n",
        "# System 3: 2x - y + z = 3, x + 2*y - z = 1, 3z - y + 2*x = 11\n",
        "eq3_1 = sp.Eq(2*x - y + z, 3)\n",
        "eq3_2 = sp.Eq(x + 2*y - z, 1)\n",
        "eq3_3 = sp.Eq(3*z - y + 2*x, 11)\n",
        "\n",
        "# System 4: 2x - 3y + 4z + 2*t = 2, 3z + 2*y - 5 + 3*t = 3, 4x - 3y + 2z - 5*t = 4, 5*x + 4*y - 3*z + 2*t = 5\n",
        "eq4_1 = sp.Eq(2*x - 3*y + 4*z + 2*t, 2)\n",
        "eq4_2 = sp.Eq(3*z + 2*y - 5 + 3*t, 3)\n",
        "eq4_3 = sp.Eq(4*x - 3*y + 2*z - 5*t, 4)\n",
        "eq4_4 = sp.Eq(5*x + 4*y - 3*z + 2*t, 5)\n",
        "\n",
        "# Solve the systems\n",
        "\n",
        "# System 1\n",
        "sol1 = sp.solve([eq1_1, eq1_2], (x, y))\n",
        "\n",
        "# System 2\n",
        "sol2 = sp.solve([eq2_1, eq2_2], (x, y))\n",
        "\n",
        "# System 3\n",
        "sol3 = sp.solve([eq3_1, eq3_2, eq3_3], (x, y, z))\n",
        "\n",
        "# System 4\n",
        "sol4 = sp.solve([eq4_1, eq4_2, eq4_3, eq4_4], (x, y, z, t))\n",
        "\n",
        "# Collect results\n",
        "sol1, sol2, sol3, sol4\n"
      ],
      "metadata": {
        "id": "sGYZDgOFIf2s",
        "outputId": "2f93bbe2-834e-4f10-a6a1-f6972f381715",
        "colab": {
          "base_uri": "https://localhost:8080/"
        }
      },
      "execution_count": 5,
      "outputs": [
        {
          "output_type": "execute_result",
          "data": {
            "text/plain": [
              "({x: 29/13, y: 11/13},\n",
              " {x: 5, y: 0},\n",
              " {x: 3/5, y: 11/5, z: 4},\n",
              " {t: -160/261, x: 205/261, y: 176/87, z: 56/29})"
            ]
          },
          "metadata": {},
          "execution_count": 5
        }
      ]
    }
  ],
  "metadata": {
    "kernelspec": {
      "display_name": "Python 3",
      "language": "python",
      "name": "python3"
    },
    "language_info": {
      "codemirror_mode": {
        "name": "ipython",
        "version": 3
      },
      "file_extension": ".py",
      "mimetype": "text/x-python",
      "name": "python",
      "nbconvert_exporter": "python",
      "pygments_lexer": "ipython3",
      "version": "3.11.9"
    },
    "colab": {
      "provenance": []
    }
  },
  "nbformat": 4,
  "nbformat_minor": 0
}